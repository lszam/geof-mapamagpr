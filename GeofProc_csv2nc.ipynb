{
  "nbformat": 4,
  "nbformat_minor": 0,
  "metadata": {
    "colab": {
      "provenance": [],
      "authorship_tag": "ABX9TyMO5EejeyZ6wCWo6U81SKV5",
      "include_colab_link": true
    },
    "kernelspec": {
      "name": "python3",
      "display_name": "Python 3"
    },
    "language_info": {
      "name": "python"
    }
  },
  "cells": [
    {
      "cell_type": "markdown",
      "metadata": {
        "id": "view-in-github",
        "colab_type": "text"
      },
      "source": [
        "<a href=\"https://colab.research.google.com/github/lszam/geof-mapamagpr/blob/main/GeofProc_csv2nc.ipynb\" target=\"_parent\"><img src=\"https://colab.research.google.com/assets/colab-badge.svg\" alt=\"Open In Colab\"/></a>"
      ]
    },
    {
      "cell_type": "code",
      "source": [
        "!pip install pandas netCDF4 -q"
      ],
      "metadata": {
        "id": "afJvrny2pKKu"
      },
      "execution_count": null,
      "outputs": []
    },
    {
      "cell_type": "code",
      "source": [
        "import pandas as pd\n",
        "from netCDF4 import Dataset\n",
        "import numpy as np\n",
        "\n",
        "\n",
        "csv_file = 'pr_ma2700.csv'\n",
        "df = pd.read_csv(csv_file)\n",
        "netcdf_file = 'pr_ma2700.nc'\n",
        "dataset = Dataset(netcdf_file, 'w', format='NETCDF4')\n",
        "\n",
        "# Definir as dimensões\n",
        "x_values = df['X'].unique()\n",
        "y_values = df['Y'].unique()\n",
        "\n",
        "dataset.createDimension('X', len(x_values))\n",
        "dataset.createDimension('Y', len(y_values))\n",
        "\n",
        "# Criar variáveis e atribuir os vaolres\n",
        "x_var = dataset.createVariable('X', np.float32, ('X',))\n",
        "y_var = dataset.createVariable('Y', np.float32, ('Y',))\n",
        "ma_var = dataset.createVariable('MA', np.float32, ('X', 'Y',))\n",
        "x_var[:] = x_values\n",
        "y_var[:] = y_values\n",
        "\n",
        "# Preencher os dados no formato\n",
        "for i, row in df.iterrows():\n",
        "    x_index = np.where(x_values == row['X'])[0][0]\n",
        "    y_index = np.where(y_values == row['Y'])[0][0]\n",
        "    ma_var[x_index, y_index] = row['MA']\n",
        "\n",
        "# Adicionar atributos\n",
        "x_var.units = 'meters'\n",
        "y_var.units = 'meters'\n",
        "ma_var.units = 'nT'\n",
        "\n",
        "dataset.close()\n",
        "\n",
        "print(f'Arquivo NetCDF criado em: {netcdf_file}')\n"
      ],
      "metadata": {
        "colab": {
          "base_uri": "https://localhost:8080/"
        },
        "id": "Z-l2mujqoV71",
        "outputId": "0ed68ee0-eebe-4070-aa81-7642cb30d56e"
      },
      "execution_count": 6,
      "outputs": [
        {
          "output_type": "stream",
          "name": "stdout",
          "text": [
            "Arquivo NetCDF criado em: pr_ma2700.nc\n"
          ]
        },
        {
          "output_type": "stream",
          "name": "stderr",
          "text": [
            "ERROR:root:Unexpected exception finding object shape\n",
            "Traceback (most recent call last):\n",
            "  File \"/usr/local/lib/python3.10/dist-packages/google/colab/_debugpy_repr.py\", line 54, in get_shape\n",
            "    shape = getattr(obj, 'shape', None)\n",
            "  File \"src/netCDF4/_netCDF4.pyx\", line 4560, in netCDF4._netCDF4.Variable.shape.__get__\n",
            "  File \"src/netCDF4/_netCDF4.pyx\", line 4512, in netCDF4._netCDF4.Variable._getdims\n",
            "  File \"src/netCDF4/_netCDF4.pyx\", line 2142, in netCDF4._netCDF4._inq_vardimid\n",
            "  File \"src/netCDF4/_netCDF4.pyx\", line 2134, in netCDF4._netCDF4._inq_varndims\n",
            "  File \"src/netCDF4/_netCDF4.pyx\", line 2113, in netCDF4._netCDF4._ensure_nc_success\n",
            "RuntimeError: NetCDF: Not a valid ID\n",
            "ERROR:root:Unexpected exception finding object shape\n",
            "Traceback (most recent call last):\n",
            "  File \"/usr/local/lib/python3.10/dist-packages/google/colab/_debugpy_repr.py\", line 54, in get_shape\n",
            "    shape = getattr(obj, 'shape', None)\n",
            "  File \"src/netCDF4/_netCDF4.pyx\", line 4560, in netCDF4._netCDF4.Variable.shape.__get__\n",
            "  File \"src/netCDF4/_netCDF4.pyx\", line 4512, in netCDF4._netCDF4.Variable._getdims\n",
            "  File \"src/netCDF4/_netCDF4.pyx\", line 2142, in netCDF4._netCDF4._inq_vardimid\n",
            "  File \"src/netCDF4/_netCDF4.pyx\", line 2134, in netCDF4._netCDF4._inq_varndims\n",
            "  File \"src/netCDF4/_netCDF4.pyx\", line 2113, in netCDF4._netCDF4._ensure_nc_success\n",
            "RuntimeError: NetCDF: Not a valid ID\n",
            "ERROR:root:Unexpected exception finding object shape\n",
            "Traceback (most recent call last):\n",
            "  File \"/usr/local/lib/python3.10/dist-packages/google/colab/_debugpy_repr.py\", line 54, in get_shape\n",
            "    shape = getattr(obj, 'shape', None)\n",
            "  File \"src/netCDF4/_netCDF4.pyx\", line 4560, in netCDF4._netCDF4.Variable.shape.__get__\n",
            "  File \"src/netCDF4/_netCDF4.pyx\", line 4512, in netCDF4._netCDF4.Variable._getdims\n",
            "  File \"src/netCDF4/_netCDF4.pyx\", line 2142, in netCDF4._netCDF4._inq_vardimid\n",
            "  File \"src/netCDF4/_netCDF4.pyx\", line 2134, in netCDF4._netCDF4._inq_varndims\n",
            "  File \"src/netCDF4/_netCDF4.pyx\", line 2113, in netCDF4._netCDF4._ensure_nc_success\n",
            "RuntimeError: NetCDF: Not a valid ID\n"
          ]
        }
      ]
    },
    {
      "cell_type": "code",
      "source": [
        "import pandas as pd\n",
        "from netCDF4 import Dataset\n",
        "import numpy as np\n",
        "\n",
        "netcdf_file = 'pr_ma2700.nc'\n",
        "dataset = Dataset(netcdf_file, 'r')\n",
        "\n",
        "x_values = dataset.variables['X'][:]\n",
        "y_values = dataset.variables['Y'][:]\n",
        "ma_values = dataset.variables['MA'][:, :]\n",
        "\n",
        "# Criar uma lista de dicionários para converter em DataFrame\n",
        "data = []\n",
        "for i, x in enumerate(x_values):\n",
        "    for j, y in enumerate(y_values):\n",
        "        data.append({'X': x, 'Y': y, 'MA': ma_values[i, j]})\n",
        "\n",
        "df = pd.DataFrame(data)\n",
        "\n",
        "csv_file = 'pr_ma2700_teste.csv'\n",
        "df.to_csv(csv_file, index=False)\n",
        "\n",
        "dataset.close()\n",
        "\n",
        "print(f'Arquivo CSV criado em: {csv_file}')\n"
      ],
      "metadata": {
        "colab": {
          "base_uri": "https://localhost:8080/"
        },
        "id": "6iJkZM6Kz8M8",
        "outputId": "6cbcf317-2324-4188-d781-393579c738df"
      },
      "execution_count": 2,
      "outputs": [
        {
          "output_type": "stream",
          "name": "stdout",
          "text": [
            "Arquivo CSV criado em: pr_ma1800_teste.csv\n"
          ]
        },
        {
          "output_type": "stream",
          "name": "stderr",
          "text": [
            "ERROR:root:Unexpected exception finding object shape\n",
            "Traceback (most recent call last):\n",
            "  File \"/usr/local/lib/python3.10/dist-packages/google/colab/_debugpy_repr.py\", line 54, in get_shape\n",
            "    shape = getattr(obj, 'shape', None)\n",
            "  File \"src/netCDF4/_netCDF4.pyx\", line 4560, in netCDF4._netCDF4.Variable.shape.__get__\n",
            "  File \"src/netCDF4/_netCDF4.pyx\", line 4512, in netCDF4._netCDF4.Variable._getdims\n",
            "  File \"src/netCDF4/_netCDF4.pyx\", line 2142, in netCDF4._netCDF4._inq_vardimid\n",
            "  File \"src/netCDF4/_netCDF4.pyx\", line 2134, in netCDF4._netCDF4._inq_varndims\n",
            "  File \"src/netCDF4/_netCDF4.pyx\", line 2113, in netCDF4._netCDF4._ensure_nc_success\n",
            "RuntimeError: NetCDF: Not a valid ID\n",
            "ERROR:root:Unexpected exception finding object shape\n",
            "Traceback (most recent call last):\n",
            "  File \"/usr/local/lib/python3.10/dist-packages/google/colab/_debugpy_repr.py\", line 54, in get_shape\n",
            "    shape = getattr(obj, 'shape', None)\n",
            "  File \"src/netCDF4/_netCDF4.pyx\", line 4560, in netCDF4._netCDF4.Variable.shape.__get__\n",
            "  File \"src/netCDF4/_netCDF4.pyx\", line 4512, in netCDF4._netCDF4.Variable._getdims\n",
            "  File \"src/netCDF4/_netCDF4.pyx\", line 2142, in netCDF4._netCDF4._inq_vardimid\n",
            "  File \"src/netCDF4/_netCDF4.pyx\", line 2134, in netCDF4._netCDF4._inq_varndims\n",
            "  File \"src/netCDF4/_netCDF4.pyx\", line 2113, in netCDF4._netCDF4._ensure_nc_success\n",
            "RuntimeError: NetCDF: Not a valid ID\n",
            "ERROR:root:Unexpected exception finding object shape\n",
            "Traceback (most recent call last):\n",
            "  File \"/usr/local/lib/python3.10/dist-packages/google/colab/_debugpy_repr.py\", line 54, in get_shape\n",
            "    shape = getattr(obj, 'shape', None)\n",
            "  File \"src/netCDF4/_netCDF4.pyx\", line 4560, in netCDF4._netCDF4.Variable.shape.__get__\n",
            "  File \"src/netCDF4/_netCDF4.pyx\", line 4512, in netCDF4._netCDF4.Variable._getdims\n",
            "  File \"src/netCDF4/_netCDF4.pyx\", line 2142, in netCDF4._netCDF4._inq_vardimid\n",
            "  File \"src/netCDF4/_netCDF4.pyx\", line 2134, in netCDF4._netCDF4._inq_varndims\n",
            "  File \"src/netCDF4/_netCDF4.pyx\", line 2113, in netCDF4._netCDF4._ensure_nc_success\n",
            "RuntimeError: NetCDF: Not a valid ID\n"
          ]
        }
      ]
    }
  ]
}